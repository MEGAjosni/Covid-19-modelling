{
  "nbformat": 4,
  "nbformat_minor": 0,
  "metadata": {
    "colab": {
      "name": "Untitled1.ipynb",
      "provenance": [],
      "authorship_tag": "ABX9TyOiQWli05vY3sChVouFCB5p",
      "include_colab_link": true
    },
    "kernelspec": {
      "name": "python3",
      "display_name": "Python 3"
    },
    "language_info": {
      "name": "python"
    }
  },
  "cells": [
    {
      "cell_type": "markdown",
      "metadata": {
        "id": "view-in-github",
        "colab_type": "text"
      },
      "source": [
        "<a href=\"https://colab.research.google.com/github/MEGAjosni/Covid-19-modelling/blob/main/Untitled1.ipynb\" target=\"_parent\"><img src=\"https://colab.research.google.com/assets/colab-badge.svg\" alt=\"Open In Colab\"/></a>"
      ]
    },
    {
      "cell_type": "code",
      "metadata": {
        "colab": {
          "base_uri": "https://localhost:8080/"
        },
        "id": "eNHPQLDRG5Kf",
        "outputId": "62950f6a-e338-41ea-9038-a88bab056f33"
      },
      "source": [
        "!git clone https://github.com/MEGAjosni/Covid-19-modelling.git"
      ],
      "execution_count": 1,
      "outputs": [
        {
          "output_type": "stream",
          "name": "stdout",
          "text": [
            "Cloning into 'Covid-19-modelling'...\n",
            "remote: Enumerating objects: 1187, done.\u001b[K\n",
            "remote: Counting objects: 100% (1187/1187), done.\u001b[K\n",
            "remote: Compressing objects: 100% (784/784), done.\u001b[K\n",
            "remote: Total 1187 (delta 760), reused 824 (delta 400), pack-reused 0\u001b[K\n",
            "Receiving objects: 100% (1187/1187), 1.88 MiB | 6.62 MiB/s, done.\n",
            "Resolving deltas: 100% (760/760), done.\n"
          ]
        }
      ]
    }
  ]
}